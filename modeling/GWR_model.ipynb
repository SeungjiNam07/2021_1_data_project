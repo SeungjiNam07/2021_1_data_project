{
 "cells": [
  {
   "cell_type": "code",
   "execution_count": 174,
   "metadata": {},
   "outputs": [],
   "source": [
    "import pandas as pd\n",
    "import numpy as np\n",
    "\n",
    "from shapely.geometry import Point, shape, mapping\n",
    "from shapely.ops import unary_union\n",
    "\n",
    "import matplotlib.pyplot as plt\n",
    "import seaborn as sns\n",
    "\n",
    "#from geoband.API import *\n",
    "import folium\n",
    "import json\n",
    "import geopandas as gpd\n",
    "from geopandas import gpd\n",
    "\n",
    "from folium import plugins\n",
    "import re\n",
    "from pandas import ExcelFile"
   ]
  },
  {
   "cell_type": "code",
   "execution_count": 175,
   "metadata": {},
   "outputs": [],
   "source": [
    "data = pd.read_csv(\"/Users/seungji/Desktop/dataanalysis/project/data/finaldata0617.csv\",encoding=\"cp949\")"
   ]
  },
  {
   "cell_type": "code",
   "execution_count": 176,
   "metadata": {},
   "outputs": [
    {
     "data": {
      "text/plain": [
       "Index(['serial', 'lat', 'lon', '초미세먼지(㎍/㎥)', '미세먼지(㎍/㎥)', '기온(℃)', '상대습도( %)',\n",
       "       '초미세먼지 보정(㎍/㎥)', '미세먼지 보정(㎍/㎥)', 'geometry_x', '버스승차승객수', '버스하차승객수',\n",
       "       '대여', '반납', 'traffic', 'road', 'subway', 'vent', 'parking', '구동',\n",
       "       'geometry_y', '통계청행정동코드', '행자부행정동코드', '시군구명', '행정동명', '경도', '위도',\n",
       "       '총생활인구수', '남10대생활인구수', '여10대생활인구수', '남20대생활인구수', '여20대생활인구수',\n",
       "       '남30,40대생활인구수', '여30,40대생활인구수', '남50,60대생활인구수', '여50,60대생활인구수',\n",
       "       '남자70세이상생활인구수', '여자70세이상생활인구수', '자치구', '동', '세대', '인구', '세대당인구',\n",
       "       '외국인인구비율', '구내전입', '구내전출', '구간전입', '구간전출', '인구밀도', 'park', 'tree',\n",
       "       'river'],\n",
       "      dtype='object')"
      ]
     },
     "execution_count": 176,
     "metadata": {},
     "output_type": "execute_result"
    }
   ],
   "source": [
    "data.columns"
   ]
  },
  {
   "cell_type": "code",
   "execution_count": 177,
   "metadata": {},
   "outputs": [],
   "source": [
    "data = data.loc[:,['미세먼지(㎍/㎥)','lat', 'lon','기온(℃)', '상대습도( %)','버스승차승객수', '버스하차승객수','대여', '반납', 'traffic', 'road', 'subway', 'vent', 'parking','남10대생활인구수', '여10대생활인구수', '남20대생활인구수', '여20대생활인구수',\n",
    "       '남30,40대생활인구수', '여30,40대생활인구수', '남50,60대생활인구수', '여50,60대생활인구수',\n",
    "       '남자70세이상생활인구수', '여자70세이상생활인구수', '세대', '인구', '세대당인구',\n",
    "       '외국인인구비율', '구내전입', '구내전출', '구간전입', '구간전출', '인구밀도', 'park', 'tree',\n",
    "       'river']]"
   ]
  },
  {
   "cell_type": "markdown",
   "metadata": {},
   "source": [
    "'geometry_x':\"geometry\","
   ]
  },
  {
   "cell_type": "code",
   "execution_count": 178,
   "metadata": {},
   "outputs": [],
   "source": [
    "data = data.rename(columns={'미세먼지(㎍/㎥)':\"finedust\",\"기온(℃)\":\"temp\",\"상대습도( %)\":\"humid\",\"버스승차승객수\": \"busin\", \"버스하차승객수\": \"busout\",\"대여\":\"bikerent\",\"반납\":\"bikereturn\",'남10대생활인구수':\"m10\", '여10대생활인구수':\"f10\", '남20대생활인구수':\"m20\", '여20대생활인구수':\"f20\",'남30,40대생활인구수':\"m3040\", '여30,40대생활인구수':\"f3040\", '남50,60대생활인구수':\"m5060\", '여50,60대생활인구수':\"f5060\",\n",
    "       '남자70세이상생활인구수':\"m70\", '여자70세이상생활인구수':\"f70\", '세대':\"fam\", '인구':\"pop\", '세대당인구':\"famperpop\",\n",
    "       '외국인인구비율':\"foreign_rt\", '구내전입':\"gu_in\", '구내전출':\"gu_out\", '구간전입':\"gugan_in\", '구간전출':\"gugan_out\", '인구밀도':\"pop_dens\"})\n",
    "data = data.dropna()"
   ]
  },
  {
   "cell_type": "code",
   "execution_count": 179,
   "metadata": {},
   "outputs": [],
   "source": [
    "data[\"bus\"] = (data[\"busin\"]+data[\"busout\"])/2\n",
    "data[\"bike\"] = (data[\"bikerent\"]+data[\"bikereturn\"])/2\n",
    "data[\"trans\"] = (data[\"subway\"]+data[\"parking\"])\n",
    "data[\"p10\"] = data[\"m10\"]+ data[\"f10\"]\n",
    "data[\"p20\"] = data[\"m20\"]+ data[\"f20\"]\n",
    "data[\"p3040\"] = data[\"m3040\"]+ data[\"f3040\"]\n",
    "data[\"p5060\"] = data[\"m5060\"]+ data[\"f5060\"]\n",
    "data[\"p70\"] = data[\"m70\"]+ data[\"f70\"]"
   ]
  },
  {
   "cell_type": "code",
   "execution_count": 180,
   "metadata": {},
   "outputs": [],
   "source": [
    "data = data.drop(columns = ['busin', 'busout', 'bikerent', 'bikereturn',\"subway\",\"parking\",'m10', 'f10', 'm20', 'f20',\n",
    "       'm3040', 'f3040', 'm5060', 'f5060', 'm70', 'f70'])"
   ]
  },
  {
   "cell_type": "code",
   "execution_count": 181,
   "metadata": {},
   "outputs": [],
   "source": [
    "data[\"p20_60\"] = data[\"p20\"]+ data[\"p3040\"]+ data[\"p5060\"]"
   ]
  },
  {
   "cell_type": "code",
   "execution_count": 182,
   "metadata": {},
   "outputs": [],
   "source": [
    "data =data.drop(columns = [\"p20\",\"p3040\",\"p5060\",\"fam\",\"gugan_in\"])"
   ]
  },
  {
   "cell_type": "code",
   "execution_count": 111,
   "metadata": {},
   "outputs": [],
   "source": [
    "data.to_csv(\"/Users/seungji/Desktop/dataanalysis/project/data/data_spatial.csv\",encoding = \"cp949\",index = False)"
   ]
  },
  {
   "cell_type": "code",
   "execution_count": 183,
   "metadata": {},
   "outputs": [
    {
     "name": "stderr",
     "output_type": "stream",
     "text": [
      "/Users/seungji/opt/anaconda3/lib/python3.8/site-packages/pyproj/crs/crs.py:53: FutureWarning: '+init=<authority>:<code>' syntax is deprecated. '<authority>:<code>' is the preferred initialization method. When making the change, be mindful of axis order changes: https://pyproj4.github.io/pyproj/stable/gotchas.html#axis-order-changes-in-proj-6\n",
      "  return _prepare_from_string(\" \".join(pjargs))\n"
     ]
    }
   ],
   "source": [
    "datas = gpd.GeoDataFrame(data,\n",
    "    crs={'init': 'epsg:4326'},\n",
    "    geometry=[Point(xy) for xy in zip(data.lon, data.lat)])"
   ]
  },
  {
   "cell_type": "markdown",
   "metadata": {},
   "source": [
    "datas.to_file(\"/Users/seungji/Desktop/dataanalysis/project/data/datas06181.geojson\", driver=\"GeoJSON\",index=False)"
   ]
  },
  {
   "cell_type": "markdown",
   "metadata": {},
   "source": [
    "datas.to_file(\"/Users/seungji/Desktop/dataanalysis/project/data/datas0618.shp\")"
   ]
  },
  {
   "cell_type": "code",
   "execution_count": 113,
   "metadata": {
    "scrolled": true
   },
   "outputs": [
    {
     "data": {
      "text/html": [
       "<div>\n",
       "<style scoped>\n",
       "    .dataframe tbody tr th:only-of-type {\n",
       "        vertical-align: middle;\n",
       "    }\n",
       "\n",
       "    .dataframe tbody tr th {\n",
       "        vertical-align: top;\n",
       "    }\n",
       "\n",
       "    .dataframe thead th {\n",
       "        text-align: right;\n",
       "    }\n",
       "</style>\n",
       "<table border=\"1\" class=\"dataframe\">\n",
       "  <thead>\n",
       "    <tr style=\"text-align: right;\">\n",
       "      <th></th>\n",
       "      <th>finedust</th>\n",
       "      <th>lat</th>\n",
       "      <th>lon</th>\n",
       "      <th>temp</th>\n",
       "      <th>humid</th>\n",
       "      <th>traffic</th>\n",
       "      <th>road</th>\n",
       "      <th>vent</th>\n",
       "      <th>pop</th>\n",
       "      <th>famperpop</th>\n",
       "      <th>...</th>\n",
       "      <th>park</th>\n",
       "      <th>tree</th>\n",
       "      <th>river</th>\n",
       "      <th>bus</th>\n",
       "      <th>bike</th>\n",
       "      <th>trans</th>\n",
       "      <th>p10</th>\n",
       "      <th>p70</th>\n",
       "      <th>p20_60</th>\n",
       "      <th>geometry</th>\n",
       "    </tr>\n",
       "  </thead>\n",
       "  <tbody>\n",
       "    <tr>\n",
       "      <th>0</th>\n",
       "      <td>82.208333</td>\n",
       "      <td>37.494403</td>\n",
       "      <td>126.831472</td>\n",
       "      <td>15.192361</td>\n",
       "      <td>45.857639</td>\n",
       "      <td>622.579456</td>\n",
       "      <td>1528</td>\n",
       "      <td>26</td>\n",
       "      <td>24141.0</td>\n",
       "      <td>2.39</td>\n",
       "      <td>...</td>\n",
       "      <td>2</td>\n",
       "      <td>549</td>\n",
       "      <td>3</td>\n",
       "      <td>40.446350</td>\n",
       "      <td>86.750000</td>\n",
       "      <td>249</td>\n",
       "      <td>2741.313970</td>\n",
       "      <td>2569.435972</td>\n",
       "      <td>16091.832318</td>\n",
       "      <td>POINT (126.83147 37.49440)</td>\n",
       "    </tr>\n",
       "    <tr>\n",
       "      <th>1</th>\n",
       "      <td>47.540268</td>\n",
       "      <td>37.509299</td>\n",
       "      <td>126.878380</td>\n",
       "      <td>16.516779</td>\n",
       "      <td>42.315436</td>\n",
       "      <td>1112.406389</td>\n",
       "      <td>6617</td>\n",
       "      <td>56</td>\n",
       "      <td>36132.0</td>\n",
       "      <td>2.68</td>\n",
       "      <td>...</td>\n",
       "      <td>1</td>\n",
       "      <td>347</td>\n",
       "      <td>6</td>\n",
       "      <td>51.694521</td>\n",
       "      <td>411.250000</td>\n",
       "      <td>377</td>\n",
       "      <td>2828.445961</td>\n",
       "      <td>2535.264541</td>\n",
       "      <td>24161.276830</td>\n",
       "      <td>POINT (126.87838 37.50930)</td>\n",
       "    </tr>\n",
       "    <tr>\n",
       "      <th>2</th>\n",
       "      <td>42.948052</td>\n",
       "      <td>37.496892</td>\n",
       "      <td>126.843727</td>\n",
       "      <td>14.998052</td>\n",
       "      <td>46.321429</td>\n",
       "      <td>622.579456</td>\n",
       "      <td>2559</td>\n",
       "      <td>33</td>\n",
       "      <td>23434.0</td>\n",
       "      <td>1.90</td>\n",
       "      <td>...</td>\n",
       "      <td>3</td>\n",
       "      <td>373</td>\n",
       "      <td>0</td>\n",
       "      <td>101.409529</td>\n",
       "      <td>366.666667</td>\n",
       "      <td>291</td>\n",
       "      <td>1171.538099</td>\n",
       "      <td>1973.291742</td>\n",
       "      <td>11218.724433</td>\n",
       "      <td>POINT (126.84373 37.49689)</td>\n",
       "    </tr>\n",
       "    <tr>\n",
       "      <th>3</th>\n",
       "      <td>46.343972</td>\n",
       "      <td>37.487430</td>\n",
       "      <td>126.838527</td>\n",
       "      <td>14.177305</td>\n",
       "      <td>48.251773</td>\n",
       "      <td>622.579456</td>\n",
       "      <td>1923</td>\n",
       "      <td>27</td>\n",
       "      <td>39209.0</td>\n",
       "      <td>2.48</td>\n",
       "      <td>...</td>\n",
       "      <td>2</td>\n",
       "      <td>320</td>\n",
       "      <td>0</td>\n",
       "      <td>124.349281</td>\n",
       "      <td>243.500000</td>\n",
       "      <td>257</td>\n",
       "      <td>4890.250857</td>\n",
       "      <td>6082.292009</td>\n",
       "      <td>34605.189729</td>\n",
       "      <td>POINT (126.83853 37.48743)</td>\n",
       "    </tr>\n",
       "    <tr>\n",
       "      <th>4</th>\n",
       "      <td>77.467811</td>\n",
       "      <td>37.482145</td>\n",
       "      <td>126.889339</td>\n",
       "      <td>15.512446</td>\n",
       "      <td>44.381974</td>\n",
       "      <td>1063.823961</td>\n",
       "      <td>6954</td>\n",
       "      <td>40</td>\n",
       "      <td>13447.0</td>\n",
       "      <td>1.54</td>\n",
       "      <td>...</td>\n",
       "      <td>0</td>\n",
       "      <td>666</td>\n",
       "      <td>0</td>\n",
       "      <td>91.170588</td>\n",
       "      <td>225.500000</td>\n",
       "      <td>319</td>\n",
       "      <td>277.104519</td>\n",
       "      <td>1035.259155</td>\n",
       "      <td>9625.592185</td>\n",
       "      <td>POINT (126.88934 37.48214)</td>\n",
       "    </tr>\n",
       "  </tbody>\n",
       "</table>\n",
       "<p>5 rows × 25 columns</p>\n",
       "</div>"
      ],
      "text/plain": [
       "    finedust        lat         lon       temp      humid      traffic  road  \\\n",
       "0  82.208333  37.494403  126.831472  15.192361  45.857639   622.579456  1528   \n",
       "1  47.540268  37.509299  126.878380  16.516779  42.315436  1112.406389  6617   \n",
       "2  42.948052  37.496892  126.843727  14.998052  46.321429   622.579456  2559   \n",
       "3  46.343972  37.487430  126.838527  14.177305  48.251773   622.579456  1923   \n",
       "4  77.467811  37.482145  126.889339  15.512446  44.381974  1063.823961  6954   \n",
       "\n",
       "   vent      pop  famperpop  ...  park  tree  river         bus        bike  \\\n",
       "0    26  24141.0       2.39  ...     2   549      3   40.446350   86.750000   \n",
       "1    56  36132.0       2.68  ...     1   347      6   51.694521  411.250000   \n",
       "2    33  23434.0       1.90  ...     3   373      0  101.409529  366.666667   \n",
       "3    27  39209.0       2.48  ...     2   320      0  124.349281  243.500000   \n",
       "4    40  13447.0       1.54  ...     0   666      0   91.170588  225.500000   \n",
       "\n",
       "   trans          p10          p70        p20_60                    geometry  \n",
       "0    249  2741.313970  2569.435972  16091.832318  POINT (126.83147 37.49440)  \n",
       "1    377  2828.445961  2535.264541  24161.276830  POINT (126.87838 37.50930)  \n",
       "2    291  1171.538099  1973.291742  11218.724433  POINT (126.84373 37.49689)  \n",
       "3    257  4890.250857  6082.292009  34605.189729  POINT (126.83853 37.48743)  \n",
       "4    319   277.104519  1035.259155   9625.592185  POINT (126.88934 37.48214)  \n",
       "\n",
       "[5 rows x 25 columns]"
      ]
     },
     "execution_count": 113,
     "metadata": {},
     "output_type": "execute_result"
    }
   ],
   "source": [
    "datas.head()"
   ]
  },
  {
   "cell_type": "code",
   "execution_count": 184,
   "metadata": {},
   "outputs": [],
   "source": [
    "y = datas[\"finedust\"]\n",
    "X = datas.iloc[:,range(3,24)] "
   ]
  },
  {
   "cell_type": "code",
   "execution_count": 185,
   "metadata": {},
   "outputs": [],
   "source": [
    "coords = np.array(list(zip(datas['lat'], datas['lon'])))"
   ]
  },
  {
   "cell_type": "code",
   "execution_count": 186,
   "metadata": {},
   "outputs": [
    {
     "name": "stdout",
     "output_type": "stream",
     "text": [
      "(844, 21) (844,) (212, 21) (212,)\n"
     ]
    }
   ],
   "source": [
    "from sklearn.model_selection import train_test_split\n",
    "X_tr, X_tst, y_tr, y_tst = train_test_split(X,y,test_size = 0.2,random_state = 42)\n",
    "coords_tr, coords_tst = train_test_split(coords,test_size = 0.2,random_state = 42)\n",
    "print(X_tr.shape,y_tr.shape,X_tst.shape,y_tst.shape)"
   ]
  },
  {
   "cell_type": "code",
   "execution_count": 187,
   "metadata": {},
   "outputs": [],
   "source": [
    "from sklearn.preprocessing import StandardScaler\n",
    "scaler = StandardScaler().fit(X_tr)\n",
    "\n",
    "X_tr = scaler.transform(X_tr)\n",
    "X_tst = scaler.transform(X_tst)"
   ]
  },
  {
   "cell_type": "code",
   "execution_count": 188,
   "metadata": {},
   "outputs": [
    {
     "data": {
      "text/plain": [
       "0     0\n",
       "1     0\n",
       "2     0\n",
       "3     0\n",
       "4     0\n",
       "5     0\n",
       "6     0\n",
       "7     0\n",
       "8     0\n",
       "9     0\n",
       "10    0\n",
       "11    0\n",
       "12    0\n",
       "13    0\n",
       "14    0\n",
       "15    0\n",
       "16    0\n",
       "17    0\n",
       "18    0\n",
       "19    0\n",
       "20    0\n",
       "dtype: int64"
      ]
     },
     "execution_count": 188,
     "metadata": {},
     "output_type": "execute_result"
    }
   ],
   "source": [
    "pd.DataFrame(X_tr).isnull().sum()"
   ]
  },
  {
   "cell_type": "code",
   "execution_count": 189,
   "metadata": {},
   "outputs": [],
   "source": [
    "y_tr = np.array(y_tr).reshape((-1,1))"
   ]
  },
  {
   "cell_type": "code",
   "execution_count": 190,
   "metadata": {},
   "outputs": [],
   "source": [
    "y_tst = np.array(y_tst).reshape((-1,1))"
   ]
  },
  {
   "cell_type": "code",
   "execution_count": 191,
   "metadata": {
    "scrolled": true
   },
   "outputs": [
    {
     "ename": "ImportError",
     "evalue": "cannot import name 'truncate_colorm' from 'mgwr.utils' (/Users/seungji/opt/anaconda3/lib/python3.8/site-packages/mgwr/utils.py)",
     "output_type": "error",
     "traceback": [
      "\u001b[0;31m---------------------------------------------------------------------------\u001b[0m",
      "\u001b[0;31mImportError\u001b[0m                               Traceback (most recent call last)",
      "\u001b[0;32m<ipython-input-191-738457bc94d2>\u001b[0m in \u001b[0;36m<module>\u001b[0;34m\u001b[0m\n\u001b[1;32m      2\u001b[0m \u001b[0;32mfrom\u001b[0m \u001b[0mmgwr\u001b[0m\u001b[0;34m.\u001b[0m\u001b[0mgwr\u001b[0m \u001b[0;32mimport\u001b[0m \u001b[0mGWR\u001b[0m\u001b[0;34m,\u001b[0m \u001b[0mMGWR\u001b[0m\u001b[0;34m\u001b[0m\u001b[0;34m\u001b[0m\u001b[0m\n\u001b[1;32m      3\u001b[0m \u001b[0;32mfrom\u001b[0m \u001b[0mmgwr\u001b[0m\u001b[0;34m.\u001b[0m\u001b[0msel_bw\u001b[0m \u001b[0;32mimport\u001b[0m \u001b[0mSel_BW\u001b[0m\u001b[0;34m\u001b[0m\u001b[0;34m\u001b[0m\u001b[0m\n\u001b[0;32m----> 4\u001b[0;31m \u001b[0;32mfrom\u001b[0m \u001b[0mmgwr\u001b[0m\u001b[0;34m.\u001b[0m\u001b[0mutils\u001b[0m \u001b[0;32mimport\u001b[0m \u001b[0mcompare_surfaces\u001b[0m\u001b[0;34m,\u001b[0m \u001b[0mtruncate_colorm\u001b[0m\u001b[0;34m\u001b[0m\u001b[0;34m\u001b[0m\u001b[0m\n\u001b[0m",
      "\u001b[0;31mImportError\u001b[0m: cannot import name 'truncate_colorm' from 'mgwr.utils' (/Users/seungji/opt/anaconda3/lib/python3.8/site-packages/mgwr/utils.py)"
     ]
    }
   ],
   "source": [
    "import libpysal as ps\n",
    "from mgwr.gwr import GWR, MGWR\n",
    "from mgwr.sel_bw import Sel_BW\n",
    "from mgwr.utils import compare_surfaces, truncate_colorm"
   ]
  },
  {
   "cell_type": "code",
   "execution_count": 192,
   "metadata": {},
   "outputs": [
    {
     "name": "stdout",
     "output_type": "stream",
     "text": [
      "0.11\n"
     ]
    }
   ],
   "source": [
    "bw = Sel_BW(coords_tr, y_tr, X_tr, fixed = True, kernel = \"Gaussian\").search(criterion = 'AIC')\n",
    "print(bw)"
   ]
  },
  {
   "cell_type": "code",
   "execution_count": 193,
   "metadata": {},
   "outputs": [
    {
     "name": "stdout",
     "output_type": "stream",
     "text": [
      "177078.89020596433\n"
     ]
    }
   ],
   "source": [
    "gwr_model = GWR(coords_tr,y_tr,X_tr,bw = 0.11)\n",
    "gwr_results = gwr_model.fit()\n",
    "print(gwr_results.resid_ss)"
   ]
  },
  {
   "cell_type": "code",
   "execution_count": 194,
   "metadata": {
    "scrolled": false
   },
   "outputs": [
    {
     "name": "stdout",
     "output_type": "stream",
     "text": [
      "===========================================================================\n",
      "Model type                                                         Gaussian\n",
      "Number of observations:                                                 844\n",
      "Number of covariates:                                                    22\n",
      "\n",
      "Global Regression Results\n",
      "---------------------------------------------------------------------------\n",
      "Residual sum of squares:                                         184099.077\n",
      "Log-likelihood:                                                   -3470.087\n",
      "AIC:                                                               6984.173\n",
      "AICc:                                                              6987.519\n",
      "BIC:                                                             178560.316\n",
      "R2:                                                                   0.085\n",
      "Adj. R2:                                                              0.061\n",
      "\n",
      "Variable                              Est.         SE  t(Est/SE)    p-value\n",
      "------------------------------- ---------- ---------- ---------- ----------\n",
      "X0                                  53.538      0.515    103.932      0.000\n",
      "X1                                  -4.027      0.609     -6.616      0.000\n",
      "X2                                  -1.713      0.695     -2.465      0.014\n",
      "X3                                   0.071      0.611      0.116      0.908\n",
      "X4                                  -2.472      0.782     -3.160      0.002\n",
      "X5                                   0.977      0.694      1.408      0.159\n",
      "X6                                   1.938      1.552      1.249      0.212\n",
      "X7                                  -0.702      0.947     -0.741      0.459\n",
      "X8                                  -0.092      0.765     -0.120      0.904\n",
      "X9                                   0.513      0.839      0.611      0.541\n",
      "X10                                 -1.718      0.911     -1.885      0.059\n",
      "X11                                 -1.479      1.087     -1.360      0.174\n",
      "X12                                  0.606      0.693      0.875      0.382\n",
      "X13                                 -0.282      0.550     -0.513      0.608\n",
      "X14                                  0.172      0.582      0.296      0.768\n",
      "X15                                  0.316      0.530      0.596      0.551\n",
      "X16                                  0.169      0.541      0.312      0.755\n",
      "X17                                  1.808      0.564      3.205      0.001\n",
      "X18                                  1.938      0.965      2.008      0.045\n",
      "X19                                  0.065      0.943      0.069      0.945\n",
      "X20                                 -1.343      1.066     -1.260      0.208\n",
      "X21                                  0.966      1.019      0.948      0.343\n",
      "\n",
      "Geographically Weighted Regression (GWR) Results\n",
      "---------------------------------------------------------------------------\n",
      "Spatial kernel:                                           Adaptive bisquare\n",
      "Bandwidth used:                                                       0.110\n",
      "\n",
      "Diagnostic information\n",
      "---------------------------------------------------------------------------\n",
      "Residual sum of squares:                                         177078.890\n",
      "Effective number of parameters (trace(S)):                           34.903\n",
      "Degree of freedom (n - trace(S)):                                   809.097\n",
      "Sigma estimate:                                                      14.794\n",
      "Log-likelihood:                                                   -3453.680\n",
      "AIC:                                                               6979.166\n",
      "AICc:                                                              6982.449\n",
      "BIC:                                                               7149.281\n",
      "R2:                                                                   0.120\n",
      "Adjusted R2:                                                          0.082\n",
      "Adj. alpha (95%):                                                     0.032\n",
      "Adj. critical t value (95%):                                          2.154\n",
      "\n",
      "Summary Statistics For GWR Parameter Estimates\n",
      "---------------------------------------------------------------------------\n",
      "Variable                   Mean        STD        Min     Median        Max\n",
      "-------------------- ---------- ---------- ---------- ---------- ----------\n",
      "X0                       53.545      0.465     52.794     53.621     54.328\n",
      "X1                       -4.378      0.313     -5.029     -4.472     -3.787\n",
      "X2                       -2.078      0.164     -2.579     -2.044     -1.818\n",
      "X3                        0.233      0.493     -0.565      0.394      0.930\n",
      "X4                       -2.492      0.289     -2.911     -2.550     -1.831\n",
      "X5                        1.106      0.245      0.632      1.073      1.632\n",
      "X6                        2.035      0.459      1.153      2.337      2.519\n",
      "X7                       -0.417      0.485     -1.253     -0.240      0.171\n",
      "X8                       -0.210      0.173     -0.531     -0.195      0.079\n",
      "X9                       -0.052      0.403     -0.892     -0.204      0.574\n",
      "X10                      -1.293      0.394     -1.954     -1.349     -0.091\n",
      "X11                      -1.426      0.390     -2.104     -1.588     -0.724\n",
      "X12                       0.549      0.231      0.075      0.603      0.981\n",
      "X13                      -0.190      0.400     -0.785     -0.128      0.358\n",
      "X14                       0.414      0.183      0.032      0.447      0.713\n",
      "X15                       0.046      0.691     -1.110      0.073      0.947\n",
      "X16                       0.144      0.264     -0.281      0.144      0.694\n",
      "X17                       1.749      0.345      1.155      1.765      2.366\n",
      "X18                       1.799      0.933      0.200      2.006      3.055\n",
      "X19                      -0.119      0.557     -0.702     -0.323      0.832\n",
      "X20                      -1.458      0.368     -2.183     -1.494     -0.645\n",
      "X21                       0.996      0.288      0.432      1.072      1.483\n",
      "===========================================================================\n",
      "\n"
     ]
    }
   ],
   "source": [
    "gwr_results.summary()"
   ]
  },
  {
   "cell_type": "code",
   "execution_count": 202,
   "metadata": {},
   "outputs": [
    {
     "data": {
      "text/plain": [
       "Index(['temp', 'humid', 'traffic', 'road', 'vent', 'pop', 'famperpop',\n",
       "       'foreign_rt', 'gu_in', 'gu_out', 'gugan_out', 'pop_dens', 'park',\n",
       "       'tree', 'river', 'bus', 'bike', 'trans', 'p10', 'p70', 'p20_60'],\n",
       "      dtype='object')"
      ]
     },
     "execution_count": 202,
     "metadata": {},
     "output_type": "execute_result"
    }
   ],
   "source": [
    "X.columns"
   ]
  },
  {
   "cell_type": "code",
   "execution_count": 201,
   "metadata": {},
   "outputs": [
    {
     "data": {
      "text/plain": [
       "(1056, 25)"
      ]
     },
     "execution_count": 201,
     "metadata": {},
     "output_type": "execute_result"
    }
   ],
   "source": [
    "data.shape"
   ]
  },
  {
   "cell_type": "code",
   "execution_count": 195,
   "metadata": {},
   "outputs": [
    {
     "data": {
      "text/plain": [
       "209.80911161844108"
      ]
     },
     "execution_count": 195,
     "metadata": {},
     "output_type": "execute_result"
    }
   ],
   "source": [
    "y_tr_pred = gwr_model.predict(points = coords_tr, P = X_tr)\n",
    "y_tr_pred = y_tr_pred.predictions\n",
    "mean_squared_error(y_tr,y_tr_pred)"
   ]
  },
  {
   "cell_type": "code",
   "execution_count": null,
   "metadata": {},
   "outputs": [],
   "source": []
  },
  {
   "cell_type": "code",
   "execution_count": 197,
   "metadata": {},
   "outputs": [
    {
     "ename": "NotImplementedError",
     "evalue": "Not available for GWR prediction",
     "output_type": "error",
     "traceback": [
      "\u001b[0;31m---------------------------------------------------------------------------\u001b[0m",
      "\u001b[0;31mNotImplementedError\u001b[0m                       Traceback (most recent call last)",
      "\u001b[0;32m<ipython-input-197-76721cd7e42c>\u001b[0m in \u001b[0;36m<module>\u001b[0;34m\u001b[0m\n\u001b[0;32m----> 1\u001b[0;31m \u001b[0my_tst_pred\u001b[0m \u001b[0;34m=\u001b[0m \u001b[0mgwr_model\u001b[0m\u001b[0;34m.\u001b[0m\u001b[0mpredict\u001b[0m\u001b[0;34m(\u001b[0m\u001b[0mpoints\u001b[0m \u001b[0;34m=\u001b[0m \u001b[0mcoords_tst\u001b[0m\u001b[0;34m,\u001b[0m \u001b[0mP\u001b[0m \u001b[0;34m=\u001b[0m \u001b[0mX_tst\u001b[0m\u001b[0;34m)\u001b[0m\u001b[0;34m\u001b[0m\u001b[0;34m\u001b[0m\u001b[0m\n\u001b[0m",
      "\u001b[0;32m~/opt/anaconda3/lib/python3.8/site-packages/mgwr/gwr.py\u001b[0m in \u001b[0;36mpredict\u001b[0;34m(self, points, P, exog_scale, exog_resid, fit_params)\u001b[0m\n\u001b[1;32m    381\u001b[0m         \u001b[0;32mif\u001b[0m \u001b[0;34m(\u001b[0m\u001b[0mexog_scale\u001b[0m \u001b[0;32mis\u001b[0m \u001b[0;32mNone\u001b[0m\u001b[0;34m)\u001b[0m \u001b[0;34m&\u001b[0m \u001b[0;34m(\u001b[0m\u001b[0mexog_resid\u001b[0m \u001b[0;32mis\u001b[0m \u001b[0;32mNone\u001b[0m\u001b[0;34m)\u001b[0m\u001b[0;34m:\u001b[0m\u001b[0;34m\u001b[0m\u001b[0;34m\u001b[0m\u001b[0m\n\u001b[1;32m    382\u001b[0m             \u001b[0mtrain_gwr\u001b[0m \u001b[0;34m=\u001b[0m \u001b[0mself\u001b[0m\u001b[0;34m.\u001b[0m\u001b[0mfit\u001b[0m\u001b[0;34m(\u001b[0m\u001b[0;34m**\u001b[0m\u001b[0mfit_params\u001b[0m\u001b[0;34m)\u001b[0m\u001b[0;34m\u001b[0m\u001b[0;34m\u001b[0m\u001b[0m\n\u001b[0;32m--> 383\u001b[0;31m             \u001b[0mself\u001b[0m\u001b[0;34m.\u001b[0m\u001b[0mexog_scale\u001b[0m \u001b[0;34m=\u001b[0m \u001b[0mtrain_gwr\u001b[0m\u001b[0;34m.\u001b[0m\u001b[0mscale\u001b[0m\u001b[0;34m\u001b[0m\u001b[0;34m\u001b[0m\u001b[0m\n\u001b[0m\u001b[1;32m    384\u001b[0m             \u001b[0mself\u001b[0m\u001b[0;34m.\u001b[0m\u001b[0mexog_resid\u001b[0m \u001b[0;34m=\u001b[0m \u001b[0mtrain_gwr\u001b[0m\u001b[0;34m.\u001b[0m\u001b[0mresid_response\u001b[0m\u001b[0;34m\u001b[0m\u001b[0;34m\u001b[0m\u001b[0m\n\u001b[1;32m    385\u001b[0m         \u001b[0;32melif\u001b[0m \u001b[0;34m(\u001b[0m\u001b[0mexog_scale\u001b[0m \u001b[0;32mis\u001b[0m \u001b[0;32mnot\u001b[0m \u001b[0;32mNone\u001b[0m\u001b[0;34m)\u001b[0m \u001b[0;34m&\u001b[0m \u001b[0;34m(\u001b[0m\u001b[0mexog_resid\u001b[0m \u001b[0;32mis\u001b[0m \u001b[0;32mnot\u001b[0m \u001b[0;32mNone\u001b[0m\u001b[0;34m)\u001b[0m\u001b[0;34m:\u001b[0m\u001b[0;34m\u001b[0m\u001b[0;34m\u001b[0m\u001b[0m\n",
      "\u001b[0;32m~/opt/anaconda3/lib/python3.8/site-packages/spglm/utils.py\u001b[0m in \u001b[0;36m__get__\u001b[0;34m(self, obj, type)\u001b[0m\n\u001b[1;32m    356\u001b[0m         \u001b[0;32mif\u001b[0m \u001b[0m_cachedval\u001b[0m \u001b[0;32mis\u001b[0m \u001b[0;32mNone\u001b[0m\u001b[0;34m:\u001b[0m\u001b[0;34m\u001b[0m\u001b[0;34m\u001b[0m\u001b[0m\n\u001b[1;32m    357\u001b[0m             \u001b[0;31m# Call the \"fget\" function\u001b[0m\u001b[0;34m\u001b[0m\u001b[0;34m\u001b[0m\u001b[0;34m\u001b[0m\u001b[0m\n\u001b[0;32m--> 358\u001b[0;31m             \u001b[0m_cachedval\u001b[0m \u001b[0;34m=\u001b[0m \u001b[0mself\u001b[0m\u001b[0;34m.\u001b[0m\u001b[0mfget\u001b[0m\u001b[0;34m(\u001b[0m\u001b[0mobj\u001b[0m\u001b[0;34m)\u001b[0m\u001b[0;34m\u001b[0m\u001b[0;34m\u001b[0m\u001b[0m\n\u001b[0m\u001b[1;32m    359\u001b[0m             \u001b[0;31m# Set the attribute in obj\u001b[0m\u001b[0;34m\u001b[0m\u001b[0;34m\u001b[0m\u001b[0;34m\u001b[0m\u001b[0m\n\u001b[1;32m    360\u001b[0m             \u001b[0;31m# print(\"Setting %s in cache to %s\" % (name, _cachedval))\u001b[0m\u001b[0;34m\u001b[0m\u001b[0;34m\u001b[0m\u001b[0;34m\u001b[0m\u001b[0m\n",
      "\u001b[0;32m~/opt/anaconda3/lib/python3.8/site-packages/mgwr/gwr.py\u001b[0m in \u001b[0;36mscale\u001b[0;34m(self, scale)\u001b[0m\n\u001b[1;32m    630\u001b[0m     \u001b[0;32mdef\u001b[0m \u001b[0mscale\u001b[0m\u001b[0;34m(\u001b[0m\u001b[0mself\u001b[0m\u001b[0;34m,\u001b[0m \u001b[0mscale\u001b[0m\u001b[0;34m=\u001b[0m\u001b[0;32mNone\u001b[0m\u001b[0;34m)\u001b[0m\u001b[0;34m:\u001b[0m\u001b[0;34m\u001b[0m\u001b[0;34m\u001b[0m\u001b[0m\n\u001b[1;32m    631\u001b[0m         \u001b[0;32mif\u001b[0m \u001b[0misinstance\u001b[0m\u001b[0;34m(\u001b[0m\u001b[0mself\u001b[0m\u001b[0;34m.\u001b[0m\u001b[0mfamily\u001b[0m\u001b[0;34m,\u001b[0m \u001b[0mGaussian\u001b[0m\u001b[0;34m)\u001b[0m\u001b[0;34m:\u001b[0m\u001b[0;34m\u001b[0m\u001b[0;34m\u001b[0m\u001b[0m\n\u001b[0;32m--> 632\u001b[0;31m             \u001b[0mscale\u001b[0m \u001b[0;34m=\u001b[0m \u001b[0mself\u001b[0m\u001b[0;34m.\u001b[0m\u001b[0msigma2\u001b[0m\u001b[0;34m\u001b[0m\u001b[0;34m\u001b[0m\u001b[0m\n\u001b[0m\u001b[1;32m    633\u001b[0m         \u001b[0;32melse\u001b[0m\u001b[0;34m:\u001b[0m\u001b[0;34m\u001b[0m\u001b[0;34m\u001b[0m\u001b[0m\n\u001b[1;32m    634\u001b[0m             \u001b[0mscale\u001b[0m \u001b[0;34m=\u001b[0m \u001b[0;36m1.0\u001b[0m\u001b[0;34m\u001b[0m\u001b[0;34m\u001b[0m\u001b[0m\n",
      "\u001b[0;32m~/opt/anaconda3/lib/python3.8/site-packages/spglm/utils.py\u001b[0m in \u001b[0;36m__get__\u001b[0;34m(self, obj, type)\u001b[0m\n\u001b[1;32m    356\u001b[0m         \u001b[0;32mif\u001b[0m \u001b[0m_cachedval\u001b[0m \u001b[0;32mis\u001b[0m \u001b[0;32mNone\u001b[0m\u001b[0;34m:\u001b[0m\u001b[0;34m\u001b[0m\u001b[0;34m\u001b[0m\u001b[0m\n\u001b[1;32m    357\u001b[0m             \u001b[0;31m# Call the \"fget\" function\u001b[0m\u001b[0;34m\u001b[0m\u001b[0;34m\u001b[0m\u001b[0;34m\u001b[0m\u001b[0m\n\u001b[0;32m--> 358\u001b[0;31m             \u001b[0m_cachedval\u001b[0m \u001b[0;34m=\u001b[0m \u001b[0mself\u001b[0m\u001b[0;34m.\u001b[0m\u001b[0mfget\u001b[0m\u001b[0;34m(\u001b[0m\u001b[0mobj\u001b[0m\u001b[0;34m)\u001b[0m\u001b[0;34m\u001b[0m\u001b[0;34m\u001b[0m\u001b[0m\n\u001b[0m\u001b[1;32m    359\u001b[0m             \u001b[0;31m# Set the attribute in obj\u001b[0m\u001b[0;34m\u001b[0m\u001b[0;34m\u001b[0m\u001b[0;34m\u001b[0m\u001b[0m\n\u001b[1;32m    360\u001b[0m             \u001b[0;31m# print(\"Setting %s in cache to %s\" % (name, _cachedval))\u001b[0m\u001b[0;34m\u001b[0m\u001b[0;34m\u001b[0m\u001b[0;34m\u001b[0m\u001b[0m\n",
      "\u001b[0;32m~/opt/anaconda3/lib/python3.8/site-packages/mgwr/gwr.py\u001b[0m in \u001b[0;36msigma2\u001b[0;34m(self)\u001b[0m\n\u001b[1;32m    778\u001b[0m         \"\"\"\n\u001b[1;32m    779\u001b[0m         \u001b[0;32mif\u001b[0m \u001b[0mself\u001b[0m\u001b[0;34m.\u001b[0m\u001b[0mmodel\u001b[0m\u001b[0;34m.\u001b[0m\u001b[0msigma2_v1\u001b[0m\u001b[0;34m:\u001b[0m\u001b[0;34m\u001b[0m\u001b[0;34m\u001b[0m\u001b[0m\n\u001b[0;32m--> 780\u001b[0;31m             \u001b[0;32mreturn\u001b[0m \u001b[0;34m(\u001b[0m\u001b[0mself\u001b[0m\u001b[0;34m.\u001b[0m\u001b[0mresid_ss\u001b[0m \u001b[0;34m/\u001b[0m \u001b[0;34m(\u001b[0m\u001b[0mself\u001b[0m\u001b[0;34m.\u001b[0m\u001b[0mn\u001b[0m \u001b[0;34m-\u001b[0m \u001b[0mself\u001b[0m\u001b[0;34m.\u001b[0m\u001b[0mtr_S\u001b[0m\u001b[0;34m)\u001b[0m\u001b[0;34m)\u001b[0m\u001b[0;34m\u001b[0m\u001b[0;34m\u001b[0m\u001b[0m\n\u001b[0m\u001b[1;32m    781\u001b[0m         \u001b[0;32melse\u001b[0m\u001b[0;34m:\u001b[0m\u001b[0;34m\u001b[0m\u001b[0;34m\u001b[0m\u001b[0m\n\u001b[1;32m    782\u001b[0m             \u001b[0;31m# could be changed to SWSTW - nothing to test against\u001b[0m\u001b[0;34m\u001b[0m\u001b[0;34m\u001b[0m\u001b[0;34m\u001b[0m\u001b[0m\n",
      "\u001b[0;32m~/opt/anaconda3/lib/python3.8/site-packages/spglm/utils.py\u001b[0m in \u001b[0;36m__get__\u001b[0;34m(self, obj, type)\u001b[0m\n\u001b[1;32m    356\u001b[0m         \u001b[0;32mif\u001b[0m \u001b[0m_cachedval\u001b[0m \u001b[0;32mis\u001b[0m \u001b[0;32mNone\u001b[0m\u001b[0;34m:\u001b[0m\u001b[0;34m\u001b[0m\u001b[0;34m\u001b[0m\u001b[0m\n\u001b[1;32m    357\u001b[0m             \u001b[0;31m# Call the \"fget\" function\u001b[0m\u001b[0;34m\u001b[0m\u001b[0;34m\u001b[0m\u001b[0;34m\u001b[0m\u001b[0m\n\u001b[0;32m--> 358\u001b[0;31m             \u001b[0m_cachedval\u001b[0m \u001b[0;34m=\u001b[0m \u001b[0mself\u001b[0m\u001b[0;34m.\u001b[0m\u001b[0mfget\u001b[0m\u001b[0;34m(\u001b[0m\u001b[0mobj\u001b[0m\u001b[0;34m)\u001b[0m\u001b[0;34m\u001b[0m\u001b[0;34m\u001b[0m\u001b[0m\n\u001b[0m\u001b[1;32m    359\u001b[0m             \u001b[0;31m# Set the attribute in obj\u001b[0m\u001b[0;34m\u001b[0m\u001b[0;34m\u001b[0m\u001b[0;34m\u001b[0m\u001b[0m\n\u001b[1;32m    360\u001b[0m             \u001b[0;31m# print(\"Setting %s in cache to %s\" % (name, _cachedval))\u001b[0m\u001b[0;34m\u001b[0m\u001b[0;34m\u001b[0m\u001b[0;34m\u001b[0m\u001b[0m\n",
      "\u001b[0;32m~/opt/anaconda3/lib/python3.8/site-packages/mgwr/gwr.py\u001b[0m in \u001b[0;36mresid_ss\u001b[0;34m(self)\u001b[0m\n\u001b[1;32m    622\u001b[0m     \u001b[0;32mdef\u001b[0m \u001b[0mresid_ss\u001b[0m\u001b[0;34m(\u001b[0m\u001b[0mself\u001b[0m\u001b[0;34m)\u001b[0m\u001b[0;34m:\u001b[0m\u001b[0;34m\u001b[0m\u001b[0;34m\u001b[0m\u001b[0m\n\u001b[1;32m    623\u001b[0m         \u001b[0;32mif\u001b[0m \u001b[0mself\u001b[0m\u001b[0;34m.\u001b[0m\u001b[0mmodel\u001b[0m\u001b[0;34m.\u001b[0m\u001b[0mpoints\u001b[0m \u001b[0;32mis\u001b[0m \u001b[0;32mnot\u001b[0m \u001b[0;32mNone\u001b[0m\u001b[0;34m:\u001b[0m\u001b[0;34m\u001b[0m\u001b[0;34m\u001b[0m\u001b[0m\n\u001b[0;32m--> 624\u001b[0;31m             \u001b[0;32mraise\u001b[0m \u001b[0mNotImplementedError\u001b[0m\u001b[0;34m(\u001b[0m\u001b[0;34m'Not available for GWR prediction'\u001b[0m\u001b[0;34m)\u001b[0m\u001b[0;34m\u001b[0m\u001b[0;34m\u001b[0m\u001b[0m\n\u001b[0m\u001b[1;32m    625\u001b[0m         \u001b[0;32melse\u001b[0m\u001b[0;34m:\u001b[0m\u001b[0;34m\u001b[0m\u001b[0;34m\u001b[0m\u001b[0m\n\u001b[1;32m    626\u001b[0m             \u001b[0mu\u001b[0m \u001b[0;34m=\u001b[0m \u001b[0mself\u001b[0m\u001b[0;34m.\u001b[0m\u001b[0mresid_response\u001b[0m\u001b[0;34m.\u001b[0m\u001b[0mflatten\u001b[0m\u001b[0;34m(\u001b[0m\u001b[0;34m)\u001b[0m\u001b[0;34m\u001b[0m\u001b[0;34m\u001b[0m\u001b[0m\n",
      "\u001b[0;31mNotImplementedError\u001b[0m: Not available for GWR prediction"
     ]
    }
   ],
   "source": [
    "y_tst_pred = gwr_model.predict(points = coords_tst, P = X_tst)"
   ]
  },
  {
   "cell_type": "code",
   "execution_count": null,
   "metadata": {},
   "outputs": [],
   "source": [
    "y_tst_pred = y_tst_pred.predictions"
   ]
  },
  {
   "cell_type": "code",
   "execution_count": null,
   "metadata": {},
   "outputs": [],
   "source": [
    "from sklearn.metrics import mean_squared_error\n",
    "mean_squared_error(y_tst,y_tst_pred)"
   ]
  },
  {
   "cell_type": "code",
   "execution_count": 171,
   "metadata": {},
   "outputs": [
    {
     "ename": "SyntaxError",
     "evalue": "invalid syntax (<ipython-input-171-dbd4c79884e8>, line 1)",
     "output_type": "error",
     "traceback": [
      "\u001b[0;36m  File \u001b[0;32m\"<ipython-input-171-dbd4c79884e8>\"\u001b[0;36m, line \u001b[0;32m1\u001b[0m\n\u001b[0;31m    gwr.sel(finedust ~ temp + humid + traffic + road\u001b[0m\n\u001b[0m                     ^\u001b[0m\n\u001b[0;31mSyntaxError\u001b[0m\u001b[0;31m:\u001b[0m invalid syntax\n"
     ]
    }
   ],
   "source": [
    "gwr.sel(finedust ~ temp + humid + traffic + road\n",
    "+ vent + pop + famperpop + foreign_rt + gu_in + gu_out + gugan_out +\n",
    "pop_dens + park + tree + river + bus + bike + trans + p10 + p70 +\n",
    "p20_60,data  = datas, adapt=T)"
   ]
  },
  {
   "cell_type": "code",
   "execution_count": 203,
   "metadata": {},
   "outputs": [],
   "source": [
    "y = datas[\"finedust\"]\n",
    "X = datas.iloc[:,range(3,24)] "
   ]
  },
  {
   "cell_type": "code",
   "execution_count": 204,
   "metadata": {},
   "outputs": [],
   "source": [
    "coords = np.array(list(zip(datas['lat'], datas['lon'])))"
   ]
  },
  {
   "cell_type": "code",
   "execution_count": 205,
   "metadata": {},
   "outputs": [],
   "source": [
    "from sklearn.preprocessing import StandardScaler\n",
    "scaler = StandardScaler().fit(X)\n",
    "\n",
    "X_tr = scaler.transform(X)\n",
    "y_tr = np.array(y).reshape((-1,1))"
   ]
  },
  {
   "cell_type": "code",
   "execution_count": 207,
   "metadata": {},
   "outputs": [
    {
     "name": "stdout",
     "output_type": "stream",
     "text": [
      "0.1\n"
     ]
    }
   ],
   "source": [
    "bw = Sel_BW(coords, y_tr, X_tr, fixed = True, kernel = \"Gaussian\").search(criterion = 'AIC')\n",
    "print(bw)"
   ]
  },
  {
   "cell_type": "code",
   "execution_count": 215,
   "metadata": {},
   "outputs": [
    {
     "name": "stdout",
     "output_type": "stream",
     "text": [
      "213437.88919827092\n"
     ]
    }
   ],
   "source": [
    "gwr_model = GWR(coords,y_tr,X_tr,bw = 0.1)\n",
    "gwr_results = gwr_model.fit()\n",
    "print(gwr_results.resid_ss)"
   ]
  },
  {
   "cell_type": "code",
   "execution_count": 220,
   "metadata": {},
   "outputs": [
    {
     "data": {
      "text/plain": [
       "Index(['temp', 'humid', 'traffic', 'road', 'vent', 'pop', 'famperpop',\n",
       "       'foreign_rt', 'gu_in', 'gu_out', 'gugan_out', 'pop_dens', 'park',\n",
       "       'tree', 'river', 'bus', 'bike', 'trans', 'p10', 'p70', 'p20_60'],\n",
       "      dtype='object')"
      ]
     },
     "execution_count": 220,
     "metadata": {},
     "output_type": "execute_result"
    }
   ],
   "source": [
    "X.columns"
   ]
  },
  {
   "cell_type": "code",
   "execution_count": 216,
   "metadata": {},
   "outputs": [
    {
     "name": "stdout",
     "output_type": "stream",
     "text": [
      "===========================================================================\n",
      "Model type                                                         Gaussian\n",
      "Number of observations:                                                1056\n",
      "Number of covariates:                                                    22\n",
      "\n",
      "Global Regression Results\n",
      "---------------------------------------------------------------------------\n",
      "Residual sum of squares:                                         219809.353\n",
      "Log-likelihood:                                                   -4317.007\n",
      "AIC:                                                               8678.014\n",
      "AICc:                                                              8681.084\n",
      "BIC:                                                             212610.393\n",
      "R2:                                                                   0.092\n",
      "Adj. R2:                                                              0.074\n",
      "\n",
      "Variable                              Est.         SE  t(Est/SE)    p-value\n",
      "------------------------------- ---------- ---------- ---------- ----------\n",
      "X0                                  53.276      0.449    118.741      0.000\n",
      "X1                                  -4.270      0.535     -7.985      0.000\n",
      "X2                                  -2.114      0.608     -3.475      0.001\n",
      "X3                                  -0.020      0.530     -0.038      0.970\n",
      "X4                                  -2.469      0.674     -3.663      0.000\n",
      "X5                                   0.949      0.599      1.585      0.113\n",
      "X6                                   2.272      1.373      1.655      0.098\n",
      "X7                                  -1.077      0.808     -1.332      0.183\n",
      "X8                                   0.255      0.659      0.387      0.699\n",
      "X9                                   0.853      0.726      1.176      0.240\n",
      "X10                                 -1.363      0.787     -1.732      0.083\n",
      "X11                                 -1.539      0.963     -1.599      0.110\n",
      "X12                                  0.310      0.597      0.519      0.604\n",
      "X13                                 -0.241      0.475     -0.509      0.611\n",
      "X14                                  0.540      0.506      1.066      0.287\n",
      "X15                                 -0.084      0.462     -0.182      0.855\n",
      "X16                                 -0.311      0.469     -0.664      0.507\n",
      "X17                                  1.488      0.491      3.030      0.002\n",
      "X18                                  1.867      0.826      2.261      0.024\n",
      "X19                                  0.124      0.806      0.154      0.877\n",
      "X20                                 -1.553      0.942     -1.650      0.099\n",
      "X21                                  0.681      0.904      0.754      0.451\n",
      "\n",
      "Geographically Weighted Regression (GWR) Results\n",
      "---------------------------------------------------------------------------\n",
      "Spatial kernel:                                           Adaptive bisquare\n",
      "Bandwidth used:                                                       0.100\n",
      "\n",
      "Diagnostic information\n",
      "---------------------------------------------------------------------------\n",
      "Residual sum of squares:                                         213437.889\n",
      "Effective number of parameters (trace(S)):                           35.055\n",
      "Degree of freedom (n - trace(S)):                                  1020.945\n",
      "Sigma estimate:                                                      14.459\n",
      "Log-likelihood:                                                   -4301.476\n",
      "AIC:                                                               8675.062\n",
      "AICc:                                                              8677.685\n",
      "BIC:                                                               8853.977\n",
      "R2:                                                                   0.119\n",
      "Adjusted R2:                                                          0.088\n",
      "Adj. alpha (95%):                                                     0.031\n",
      "Adj. critical t value (95%):                                          2.155\n",
      "\n",
      "Summary Statistics For GWR Parameter Estimates\n",
      "---------------------------------------------------------------------------\n",
      "Variable                   Mean        STD        Min     Median        Max\n",
      "-------------------- ---------- ---------- ---------- ---------- ----------\n",
      "X0                       53.267      0.407     52.557     53.389     53.897\n",
      "X1                       -4.533      0.267     -5.086     -4.612     -4.007\n",
      "X2                       -2.319      0.232     -2.761     -2.390     -1.948\n",
      "X3                        0.093      0.389     -0.487      0.159      0.725\n",
      "X4                       -2.523      0.226     -2.920     -2.549     -1.954\n",
      "X5                        1.120      0.270      0.675      1.104      1.672\n",
      "X6                        2.245      0.217      1.717      2.210      2.679\n",
      "X7                       -0.757      0.265     -1.232     -0.686     -0.286\n",
      "X8                        0.240      0.103      0.025      0.261      0.377\n",
      "X9                        0.542      0.276     -0.187      0.563      0.916\n",
      "X10                      -1.099      0.304     -1.603     -1.123     -0.191\n",
      "X11                      -1.514      0.404     -2.241     -1.670     -0.770\n",
      "X12                       0.314      0.250     -0.108      0.268      0.981\n",
      "X13                      -0.219      0.345     -0.724     -0.185      0.286\n",
      "X14                       0.635      0.186      0.267      0.728      0.816\n",
      "X15                      -0.299      0.454     -1.159     -0.255      0.278\n",
      "X16                      -0.295      0.086     -0.446     -0.284     -0.132\n",
      "X17                       1.487      0.339      0.833      1.538      2.047\n",
      "X18                       1.821      0.731      0.545      1.996      2.826\n",
      "X19                      -0.046      0.497     -0.563     -0.247      0.853\n",
      "X20                      -1.450      0.542     -2.322     -1.614     -0.275\n",
      "X21                       0.661      0.170      0.339      0.641      1.107\n",
      "===========================================================================\n",
      "\n"
     ]
    }
   ],
   "source": [
    "gwr_results.summary()"
   ]
  },
  {
   "cell_type": "code",
   "execution_count": 217,
   "metadata": {},
   "outputs": [
    {
     "data": {
      "text/plain": [
       "202.11921325593835"
      ]
     },
     "execution_count": 217,
     "metadata": {},
     "output_type": "execute_result"
    }
   ],
   "source": [
    "y_tr_pred = gwr_model.predict(points = coords, P = X_tr)\n",
    "y_tr_pred = y_tr_pred.predictions\n",
    "mean_squared_error(y_tr,y_tr_pred)"
   ]
  },
  {
   "attachments": {
    "image.png": {
     "image/png": "[encoded data removed]"
    }
   },
   "cell_type": "markdown",
   "metadata": {},
   "source": [
    "      8 'foreign_rt', 9'gu_in', 10'gu_out', 11'gugan_out', 12'pop_dens', 13'park',\n",
    "      14 'tree', 15'river', 16'bus', 17'bike', 18'trans', 19'p10', 20'p70', 21'p20_60'\n",
    "\n",
    "![image.png](attachment:image.png)"
   ]
  },
  {
   "cell_type": "code",
   "execution_count": null,
   "metadata": {},
   "outputs": [],
   "source": []
  }
 ],
 "metadata": {
  "kernelspec": {
   "display_name": "Python 3",
   "language": "python",
   "name": "python3"
  },
  "language_info": {
   "codemirror_mode": {
    "name": "ipython",
    "version": 3
   },
   "file_extension": ".py",
   "mimetype": "text/x-python",
   "name": "python",
   "nbconvert_exporter": "python",
   "pygments_lexer": "ipython3",
   "version": "3.8.5"
  }
 },
 "nbformat": 4,
 "nbformat_minor": 4
}
